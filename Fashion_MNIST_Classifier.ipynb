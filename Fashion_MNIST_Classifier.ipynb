{
  "nbformat": 4,
  "nbformat_minor": 0,
  "metadata": {
    "colab": {
      "name": "Fashion MNIST Classifier.ipynb",
      "provenance": [],
      "collapsed_sections": [],
      "authorship_tag": "ABX9TyPMrL7ZIW1k7qSMnhm4mtUo",
      "include_colab_link": true
    },
    "kernelspec": {
      "name": "python3",
      "display_name": "Python 3"
    },
    "language_info": {
      "name": "python"
    },
    "accelerator": "GPU"
  },
  "cells": [
    {
      "cell_type": "markdown",
      "metadata": {
        "id": "view-in-github",
        "colab_type": "text"
      },
      "source": [
        "<a href=\"https://colab.research.google.com/github/fatehtariq/Fashion-MNIST-Classifier/blob/main/Fashion_MNIST_Classifier.ipynb\" target=\"_parent\"><img src=\"https://colab.research.google.com/assets/colab-badge.svg\" alt=\"Open In Colab\"/></a>"
      ]
    },
    {
      "cell_type": "markdown",
      "metadata": {
        "id": "cQ5MP3ABprgh"
      },
      "source": [
        "# Fashion MNIST Classifier"
      ]
    },
    {
      "cell_type": "markdown",
      "metadata": {
        "id": "Pwghwwr9p1Df"
      },
      "source": [
        "**Libraries**"
      ]
    },
    {
      "cell_type": "code",
      "metadata": {
        "id": "PlQXYrygpmqk"
      },
      "source": [
        "import tensorflow as tf\n",
        "import numpy as np\n",
        "import matplotlib.pyplot as plt\n",
        "from keras.layers.normalization import BatchNormalization\n",
        "import pandas as pd\n",
        "from tensorflow.math import confusion_matrix\n",
        "from sklearn.metrics import plot_confusion_matrix"
      ],
      "execution_count": 78,
      "outputs": []
    },
    {
      "cell_type": "markdown",
      "metadata": {
        "id": "dZll_LOjqDng"
      },
      "source": [
        "**Loading Dataset**"
      ]
    },
    {
      "cell_type": "code",
      "metadata": {
        "colab": {
          "base_uri": "https://localhost:8080/"
        },
        "id": "hNt8kq3yqHs1",
        "outputId": "3ab9fa59-7104-4a97-c440-784033b071b3"
      },
      "source": [
        "(x_train, y_train), (x_test, y_test) = tf.keras.datasets.fashion_mnist.load_data()"
      ],
      "execution_count": null,
      "outputs": [
        {
          "output_type": "stream",
          "text": [
            "Downloading data from https://storage.googleapis.com/tensorflow/tf-keras-datasets/train-labels-idx1-ubyte.gz\n",
            "32768/29515 [=================================] - 0s 0us/step\n",
            "Downloading data from https://storage.googleapis.com/tensorflow/tf-keras-datasets/train-images-idx3-ubyte.gz\n",
            "26427392/26421880 [==============================] - 1s 0us/step\n",
            "Downloading data from https://storage.googleapis.com/tensorflow/tf-keras-datasets/t10k-labels-idx1-ubyte.gz\n",
            "8192/5148 [===============================================] - 0s 0us/step\n",
            "Downloading data from https://storage.googleapis.com/tensorflow/tf-keras-datasets/t10k-images-idx3-ubyte.gz\n",
            "4423680/4422102 [==============================] - 0s 0us/step\n"
          ],
          "name": "stdout"
        }
      ]
    },
    {
      "cell_type": "code",
      "metadata": {
        "colab": {
          "base_uri": "https://localhost:8080/"
        },
        "id": "tWsoeHwAqKr2",
        "outputId": "471e1c2d-a0f7-43f3-b23c-aad89881b58a"
      },
      "source": [
        "print(\"x_train shape (Training Images):\", x_train.shape, \"y_train shape (Training Labels):\", y_train.shape)"
      ],
      "execution_count": null,
      "outputs": [
        {
          "output_type": "stream",
          "text": [
            "x_train shape (Training Images): (60000, 28, 28) y_train shape (Training Labels): (60000,)\n"
          ],
          "name": "stdout"
        }
      ]
    },
    {
      "cell_type": "markdown",
      "metadata": {
        "id": "azRsKmJNqqRp"
      },
      "source": [
        "**Preprocessing Data**"
      ]
    },
    {
      "cell_type": "code",
      "metadata": {
        "colab": {
          "base_uri": "https://localhost:8080/"
        },
        "id": "iDMzkrZ1qbe5",
        "outputId": "8db1f442-a6d7-4905-c601-261605d65329"
      },
      "source": [
        "W, H = 28, 28\n",
        "x_train = x_train.reshape(x_train.shape[0], W, H, 1)\n",
        "x_test = x_test.reshape(x_test.shape[0], W, H, 1)\n",
        "\n",
        "x_train.shape"
      ],
      "execution_count": null,
      "outputs": [
        {
          "output_type": "execute_result",
          "data": {
            "text/plain": [
              "(60000, 28, 28, 1)"
            ]
          },
          "metadata": {
            "tags": []
          },
          "execution_count": 4
        }
      ]
    },
    {
      "cell_type": "markdown",
      "metadata": {
        "id": "HxPRAisjsKL3"
      },
      "source": [
        "**Model**"
      ]
    },
    {
      "cell_type": "code",
      "metadata": {
        "id": "qOc11HW7r4pw"
      },
      "source": [
        "from tensorflow.keras.layers import Dense, Conv2D, MaxPooling2D, Dropout, Flatten, Activation"
      ],
      "execution_count": null,
      "outputs": []
    },
    {
      "cell_type": "markdown",
      "metadata": {
        "id": "A3kswl8pDfGh"
      },
      "source": [
        "Model with Categorical Cross Entropy"
      ]
    },
    {
      "cell_type": "code",
      "metadata": {
        "colab": {
          "base_uri": "https://localhost:8080/"
        },
        "id": "QLCNSq6CsOvX",
        "outputId": "12778250-0564-42be-dc36-a508f008cf86"
      },
      "source": [
        "model1 = tf.keras.Sequential()\n",
        "\n",
        "model1.add(Conv2D(filters=8, kernel_size=5, padding='same', activation='relu', input_shape=(28,28,1)))          \n",
        "model1.add(MaxPooling2D(pool_size=2))\n",
        "model1.add(Dropout(0.3))\n",
        "\n",
        "model1.add(Conv2D(filters=32, kernel_size=7, activation='relu', input_shape=(8,8,1)))              \n",
        "model1.add(MaxPooling2D(pool_size=1))\n",
        "model1.add(Dropout(0.3))\n",
        "\n",
        "model1.add(Conv2D(filters=64, kernel_size=5,activation='relu', input_shape=(4,4,1)))             \n",
        "model1.add(MaxPooling2D(pool_size=1))\n",
        "model1.add(Dropout(0.3))\n",
        "\n",
        "model1.add(Conv2D(128, (3, 3),activation='relu', input_shape=(2,2,1)))              \n",
        "model1.add(MaxPooling2D(pool_size=1))\n",
        "model1.add(Dropout(0.3))\n",
        "\n",
        "model1.add(Flatten())\n",
        "\n",
        "model1.add(Dense(512))                                      \n",
        "model1.add(Activation('relu'))\n",
        "model1.add(Dropout(0.3))\n",
        "\n",
        "model1.add(Dense(128))                                      \n",
        "model1.add(Activation('relu'))\n",
        "model1.add(Dropout(0.3))\n",
        "\n",
        "model1.add(Dense(10))                                     \n",
        "model1.add(Activation('Softmax'))\n",
        "\n",
        "model1.summary()"
      ],
      "execution_count": null,
      "outputs": [
        {
          "output_type": "stream",
          "text": [
            "Model: \"sequential_22\"\n",
            "_________________________________________________________________\n",
            "Layer (type)                 Output Shape              Param #   \n",
            "=================================================================\n",
            "conv2d_85 (Conv2D)           (None, 28, 28, 8)         208       \n",
            "_________________________________________________________________\n",
            "max_pooling2d_82 (MaxPooling (None, 14, 14, 8)         0         \n",
            "_________________________________________________________________\n",
            "dropout_118 (Dropout)        (None, 14, 14, 8)         0         \n",
            "_________________________________________________________________\n",
            "conv2d_86 (Conv2D)           (None, 8, 8, 32)          12576     \n",
            "_________________________________________________________________\n",
            "max_pooling2d_83 (MaxPooling (None, 8, 8, 32)          0         \n",
            "_________________________________________________________________\n",
            "dropout_119 (Dropout)        (None, 8, 8, 32)          0         \n",
            "_________________________________________________________________\n",
            "conv2d_87 (Conv2D)           (None, 4, 4, 64)          51264     \n",
            "_________________________________________________________________\n",
            "max_pooling2d_84 (MaxPooling (None, 4, 4, 64)          0         \n",
            "_________________________________________________________________\n",
            "dropout_120 (Dropout)        (None, 4, 4, 64)          0         \n",
            "_________________________________________________________________\n",
            "conv2d_88 (Conv2D)           (None, 2, 2, 128)         73856     \n",
            "_________________________________________________________________\n",
            "max_pooling2d_85 (MaxPooling (None, 2, 2, 128)         0         \n",
            "_________________________________________________________________\n",
            "dropout_121 (Dropout)        (None, 2, 2, 128)         0         \n",
            "_________________________________________________________________\n",
            "flatten_18 (Flatten)         (None, 512)               0         \n",
            "_________________________________________________________________\n",
            "dense_54 (Dense)             (None, 512)               262656    \n",
            "_________________________________________________________________\n",
            "activation_54 (Activation)   (None, 512)               0         \n",
            "_________________________________________________________________\n",
            "dropout_122 (Dropout)        (None, 512)               0         \n",
            "_________________________________________________________________\n",
            "dense_55 (Dense)             (None, 128)               65664     \n",
            "_________________________________________________________________\n",
            "activation_55 (Activation)   (None, 128)               0         \n",
            "_________________________________________________________________\n",
            "dropout_123 (Dropout)        (None, 128)               0         \n",
            "_________________________________________________________________\n",
            "dense_56 (Dense)             (None, 10)                1290      \n",
            "_________________________________________________________________\n",
            "activation_56 (Activation)   (None, 10)                0         \n",
            "=================================================================\n",
            "Total params: 467,514\n",
            "Trainable params: 467,514\n",
            "Non-trainable params: 0\n",
            "_________________________________________________________________\n"
          ],
          "name": "stdout"
        }
      ]
    },
    {
      "cell_type": "markdown",
      "metadata": {
        "id": "4YX8EPz5DmNH"
      },
      "source": [
        "Model with Mean Squared Error"
      ]
    },
    {
      "cell_type": "code",
      "metadata": {
        "colab": {
          "base_uri": "https://localhost:8080/"
        },
        "id": "_A1rrPJyDlzH",
        "outputId": "04e9019d-9581-485e-84be-0bcc4771fbaa"
      },
      "source": [
        "model2 = tf.keras.Sequential()\n",
        "\n",
        "model2.add(Conv2D(filters=8, kernel_size=5, padding='same', activation='relu', input_shape=(28,28,1)))          \n",
        "model2.add(MaxPooling2D(pool_size=2))\n",
        "model2.add(Dropout(0.3))\n",
        "\n",
        "model2.add(Conv2D(filters=32, kernel_size=7, activation='relu', input_shape=(8,8,1)))              \n",
        "model2.add(MaxPooling2D(pool_size=1))\n",
        "model2.add(Dropout(0.3))\n",
        "\n",
        "model2.add(Conv2D(filters=64, kernel_size=5,activation='relu', input_shape=(4,4,1)))             \n",
        "model2.add(MaxPooling2D(pool_size=1))\n",
        "model2.add(Dropout(0.3))\n",
        "\n",
        "model2.add(Conv2D(128, (3, 3),activation='relu', input_shape=(2,2,1)))              \n",
        "model2.add(MaxPooling2D(pool_size=1))\n",
        "model2.add(Dropout(0.3))\n",
        "\n",
        "model2.add(Flatten())\n",
        "\n",
        "model2.add(Dense(512))                                      \n",
        "model2.add(Activation('relu'))\n",
        "model2.add(Dropout(0.3))\n",
        "\n",
        "model2.add(Dense(128))                                      \n",
        "model2.add(Activation('relu'))\n",
        "model2.add(Dropout(0.3))\n",
        "\n",
        "model2.add(Dense(10))                                     \n",
        "model2.add(Activation('Softmax'))\n",
        "\n",
        "model2.summary()"
      ],
      "execution_count": 59,
      "outputs": [
        {
          "output_type": "stream",
          "text": [
            "Model: \"sequential_23\"\n",
            "_________________________________________________________________\n",
            "Layer (type)                 Output Shape              Param #   \n",
            "=================================================================\n",
            "conv2d_89 (Conv2D)           (None, 28, 28, 8)         208       \n",
            "_________________________________________________________________\n",
            "max_pooling2d_86 (MaxPooling (None, 14, 14, 8)         0         \n",
            "_________________________________________________________________\n",
            "dropout_124 (Dropout)        (None, 14, 14, 8)         0         \n",
            "_________________________________________________________________\n",
            "conv2d_90 (Conv2D)           (None, 8, 8, 32)          12576     \n",
            "_________________________________________________________________\n",
            "max_pooling2d_87 (MaxPooling (None, 8, 8, 32)          0         \n",
            "_________________________________________________________________\n",
            "dropout_125 (Dropout)        (None, 8, 8, 32)          0         \n",
            "_________________________________________________________________\n",
            "conv2d_91 (Conv2D)           (None, 4, 4, 64)          51264     \n",
            "_________________________________________________________________\n",
            "max_pooling2d_88 (MaxPooling (None, 4, 4, 64)          0         \n",
            "_________________________________________________________________\n",
            "dropout_126 (Dropout)        (None, 4, 4, 64)          0         \n",
            "_________________________________________________________________\n",
            "conv2d_92 (Conv2D)           (None, 2, 2, 128)         73856     \n",
            "_________________________________________________________________\n",
            "max_pooling2d_89 (MaxPooling (None, 2, 2, 128)         0         \n",
            "_________________________________________________________________\n",
            "dropout_127 (Dropout)        (None, 2, 2, 128)         0         \n",
            "_________________________________________________________________\n",
            "flatten_19 (Flatten)         (None, 512)               0         \n",
            "_________________________________________________________________\n",
            "dense_57 (Dense)             (None, 512)               262656    \n",
            "_________________________________________________________________\n",
            "activation_57 (Activation)   (None, 512)               0         \n",
            "_________________________________________________________________\n",
            "dropout_128 (Dropout)        (None, 512)               0         \n",
            "_________________________________________________________________\n",
            "dense_58 (Dense)             (None, 128)               65664     \n",
            "_________________________________________________________________\n",
            "activation_58 (Activation)   (None, 128)               0         \n",
            "_________________________________________________________________\n",
            "dropout_129 (Dropout)        (None, 128)               0         \n",
            "_________________________________________________________________\n",
            "dense_59 (Dense)             (None, 10)                1290      \n",
            "_________________________________________________________________\n",
            "activation_59 (Activation)   (None, 10)                0         \n",
            "=================================================================\n",
            "Total params: 467,514\n",
            "Trainable params: 467,514\n",
            "Non-trainable params: 0\n",
            "_________________________________________________________________\n"
          ],
          "name": "stdout"
        }
      ]
    },
    {
      "cell_type": "markdown",
      "metadata": {
        "id": "Zw8fGAadyWC9"
      },
      "source": [
        "**Compiling and Training the Model with Categorical Cross Entropy**"
      ]
    },
    {
      "cell_type": "code",
      "metadata": {
        "id": "bDdqX3fKu0F-"
      },
      "source": [
        "BATCH_SIZE=1000\n",
        "EPOCHS = 50\n",
        "model1.compile(loss='sparse_categorical_crossentropy',\n",
        "             optimizer='adam',\n",
        "             metrics=['accuracy'])"
      ],
      "execution_count": 60,
      "outputs": []
    },
    {
      "cell_type": "code",
      "metadata": {
        "colab": {
          "base_uri": "https://localhost:8080/"
        },
        "id": "pQ8K-P2Fysjn",
        "outputId": "87eceea8-623f-4f22-bf9d-45460b0c0552"
      },
      "source": [
        "%time history = model1.fit(x_train, y_train, epochs=EPOCHS, batch_size=BATCH_SIZE, validation_split=0.2, verbose=1)"
      ],
      "execution_count": 61,
      "outputs": [
        {
          "output_type": "stream",
          "text": [
            "Epoch 1/50\n",
            "48/48 [==============================] - 3s 49ms/step - loss: 2.3018 - accuracy: 0.1011 - val_loss: 2.2294 - val_accuracy: 0.1877\n",
            "Epoch 2/50\n",
            "48/48 [==============================] - 2s 42ms/step - loss: 1.6864 - accuracy: 0.3297 - val_loss: 0.6483 - val_accuracy: 0.7298\n",
            "Epoch 3/50\n",
            "48/48 [==============================] - 2s 42ms/step - loss: 0.5524 - accuracy: 0.7969 - val_loss: 0.3369 - val_accuracy: 0.8772\n",
            "Epoch 4/50\n",
            "48/48 [==============================] - 2s 42ms/step - loss: 0.3678 - accuracy: 0.8679 - val_loss: 0.2825 - val_accuracy: 0.9000\n",
            "Epoch 5/50\n",
            "48/48 [==============================] - 2s 42ms/step - loss: 0.3165 - accuracy: 0.8865 - val_loss: 0.2656 - val_accuracy: 0.9028\n",
            "Epoch 6/50\n",
            "48/48 [==============================] - 2s 42ms/step - loss: 0.3036 - accuracy: 0.8903 - val_loss: 0.2714 - val_accuracy: 0.9019\n",
            "Epoch 7/50\n",
            "48/48 [==============================] - 2s 43ms/step - loss: 0.2946 - accuracy: 0.8925 - val_loss: 0.2616 - val_accuracy: 0.9027\n",
            "Epoch 8/50\n",
            "48/48 [==============================] - 2s 42ms/step - loss: 0.2838 - accuracy: 0.8961 - val_loss: 0.2563 - val_accuracy: 0.9080\n",
            "Epoch 9/50\n",
            "48/48 [==============================] - 2s 42ms/step - loss: 0.2795 - accuracy: 0.8974 - val_loss: 0.2533 - val_accuracy: 0.9073\n",
            "Epoch 10/50\n",
            "48/48 [==============================] - 2s 43ms/step - loss: 0.2743 - accuracy: 0.8994 - val_loss: 0.2540 - val_accuracy: 0.9070\n",
            "Epoch 11/50\n",
            "48/48 [==============================] - 2s 43ms/step - loss: 0.2758 - accuracy: 0.8995 - val_loss: 0.2559 - val_accuracy: 0.9057\n",
            "Epoch 12/50\n",
            "48/48 [==============================] - 2s 42ms/step - loss: 0.2688 - accuracy: 0.9005 - val_loss: 0.2513 - val_accuracy: 0.9074\n",
            "Epoch 13/50\n",
            "48/48 [==============================] - 2s 43ms/step - loss: 0.2671 - accuracy: 0.9016 - val_loss: 0.2576 - val_accuracy: 0.9047\n",
            "Epoch 14/50\n",
            "48/48 [==============================] - 2s 41ms/step - loss: 0.2633 - accuracy: 0.9030 - val_loss: 0.2581 - val_accuracy: 0.9056\n",
            "Epoch 15/50\n",
            "48/48 [==============================] - 2s 42ms/step - loss: 0.2633 - accuracy: 0.9031 - val_loss: 0.2458 - val_accuracy: 0.9084\n",
            "Epoch 16/50\n",
            "48/48 [==============================] - 2s 42ms/step - loss: 0.2591 - accuracy: 0.9042 - val_loss: 0.2471 - val_accuracy: 0.9080\n",
            "Epoch 17/50\n",
            "48/48 [==============================] - 2s 42ms/step - loss: 0.2592 - accuracy: 0.9042 - val_loss: 0.2410 - val_accuracy: 0.9082\n",
            "Epoch 18/50\n",
            "48/48 [==============================] - 2s 42ms/step - loss: 0.2569 - accuracy: 0.9051 - val_loss: 0.2481 - val_accuracy: 0.9078\n",
            "Epoch 19/50\n",
            "48/48 [==============================] - 2s 42ms/step - loss: 0.2581 - accuracy: 0.9047 - val_loss: 0.2500 - val_accuracy: 0.9108\n",
            "Epoch 20/50\n",
            "48/48 [==============================] - 2s 43ms/step - loss: 0.2560 - accuracy: 0.9062 - val_loss: 0.2477 - val_accuracy: 0.9095\n",
            "Epoch 21/50\n",
            "48/48 [==============================] - 2s 42ms/step - loss: 0.2518 - accuracy: 0.9065 - val_loss: 0.2401 - val_accuracy: 0.9131\n",
            "Epoch 22/50\n",
            "48/48 [==============================] - 2s 43ms/step - loss: 0.2530 - accuracy: 0.9051 - val_loss: 0.2459 - val_accuracy: 0.9096\n",
            "Epoch 23/50\n",
            "48/48 [==============================] - 2s 42ms/step - loss: 0.2539 - accuracy: 0.9056 - val_loss: 0.2499 - val_accuracy: 0.9079\n",
            "Epoch 24/50\n",
            "48/48 [==============================] - 2s 41ms/step - loss: 0.2545 - accuracy: 0.9062 - val_loss: 0.2474 - val_accuracy: 0.9102\n",
            "Epoch 25/50\n",
            "48/48 [==============================] - 2s 42ms/step - loss: 0.2532 - accuracy: 0.9061 - val_loss: 0.2492 - val_accuracy: 0.9087\n",
            "Epoch 26/50\n",
            "48/48 [==============================] - 2s 43ms/step - loss: 0.2509 - accuracy: 0.9078 - val_loss: 0.2416 - val_accuracy: 0.9124\n",
            "Epoch 27/50\n",
            "48/48 [==============================] - 2s 43ms/step - loss: 0.2487 - accuracy: 0.9070 - val_loss: 0.2448 - val_accuracy: 0.9115\n",
            "Epoch 28/50\n",
            "48/48 [==============================] - 2s 43ms/step - loss: 0.2472 - accuracy: 0.9088 - val_loss: 0.2450 - val_accuracy: 0.9120\n",
            "Epoch 29/50\n",
            "48/48 [==============================] - 2s 42ms/step - loss: 0.2468 - accuracy: 0.9092 - val_loss: 0.2399 - val_accuracy: 0.9109\n",
            "Epoch 30/50\n",
            "48/48 [==============================] - 2s 42ms/step - loss: 0.2481 - accuracy: 0.9073 - val_loss: 0.2399 - val_accuracy: 0.9142\n",
            "Epoch 31/50\n",
            "48/48 [==============================] - 2s 43ms/step - loss: 0.2452 - accuracy: 0.9082 - val_loss: 0.2420 - val_accuracy: 0.9122\n",
            "Epoch 32/50\n",
            "48/48 [==============================] - 2s 42ms/step - loss: 0.2439 - accuracy: 0.9095 - val_loss: 0.2426 - val_accuracy: 0.9126\n",
            "Epoch 33/50\n",
            "48/48 [==============================] - 2s 41ms/step - loss: 0.2464 - accuracy: 0.9087 - val_loss: 0.2374 - val_accuracy: 0.9146\n",
            "Epoch 34/50\n",
            "48/48 [==============================] - 2s 41ms/step - loss: 0.2429 - accuracy: 0.9089 - val_loss: 0.2409 - val_accuracy: 0.9136\n",
            "Epoch 35/50\n",
            "48/48 [==============================] - 2s 42ms/step - loss: 0.2427 - accuracy: 0.9085 - val_loss: 0.2392 - val_accuracy: 0.9135\n",
            "Epoch 36/50\n",
            "48/48 [==============================] - 2s 41ms/step - loss: 0.2447 - accuracy: 0.9098 - val_loss: 0.2432 - val_accuracy: 0.9105\n",
            "Epoch 37/50\n",
            "48/48 [==============================] - 2s 42ms/step - loss: 0.2432 - accuracy: 0.9107 - val_loss: 0.2360 - val_accuracy: 0.9128\n",
            "Epoch 38/50\n",
            "48/48 [==============================] - 2s 41ms/step - loss: 0.2465 - accuracy: 0.9079 - val_loss: 0.2401 - val_accuracy: 0.9124\n",
            "Epoch 39/50\n",
            "48/48 [==============================] - 2s 43ms/step - loss: 0.2447 - accuracy: 0.9101 - val_loss: 0.2440 - val_accuracy: 0.9142\n",
            "Epoch 40/50\n",
            "48/48 [==============================] - 2s 42ms/step - loss: 0.2382 - accuracy: 0.9104 - val_loss: 0.2365 - val_accuracy: 0.9146\n",
            "Epoch 41/50\n",
            "48/48 [==============================] - 2s 42ms/step - loss: 0.2405 - accuracy: 0.9105 - val_loss: 0.2398 - val_accuracy: 0.9127\n",
            "Epoch 42/50\n",
            "48/48 [==============================] - 2s 42ms/step - loss: 0.2380 - accuracy: 0.9107 - val_loss: 0.2482 - val_accuracy: 0.9135\n",
            "Epoch 43/50\n",
            "48/48 [==============================] - 2s 43ms/step - loss: 0.2400 - accuracy: 0.9111 - val_loss: 0.2351 - val_accuracy: 0.9148\n",
            "Epoch 44/50\n",
            "48/48 [==============================] - 2s 43ms/step - loss: 0.2378 - accuracy: 0.9103 - val_loss: 0.2382 - val_accuracy: 0.9143\n",
            "Epoch 45/50\n",
            "48/48 [==============================] - 2s 42ms/step - loss: 0.2341 - accuracy: 0.9125 - val_loss: 0.2329 - val_accuracy: 0.9171\n",
            "Epoch 46/50\n",
            "48/48 [==============================] - 2s 42ms/step - loss: 0.2384 - accuracy: 0.9117 - val_loss: 0.2357 - val_accuracy: 0.9147\n",
            "Epoch 47/50\n",
            "48/48 [==============================] - 2s 41ms/step - loss: 0.2380 - accuracy: 0.9115 - val_loss: 0.2381 - val_accuracy: 0.9152\n",
            "Epoch 48/50\n",
            "48/48 [==============================] - 2s 42ms/step - loss: 0.2352 - accuracy: 0.9125 - val_loss: 0.2378 - val_accuracy: 0.9147\n",
            "Epoch 49/50\n",
            "48/48 [==============================] - 2s 42ms/step - loss: 0.2336 - accuracy: 0.9120 - val_loss: 0.2364 - val_accuracy: 0.9158\n",
            "Epoch 50/50\n",
            "48/48 [==============================] - 2s 42ms/step - loss: 0.2349 - accuracy: 0.9119 - val_loss: 0.2445 - val_accuracy: 0.9122\n",
            "CPU times: user 1min 38s, sys: 2.64 s, total: 1min 40s\n",
            "Wall time: 2min 22s\n"
          ],
          "name": "stdout"
        }
      ]
    },
    {
      "cell_type": "code",
      "metadata": {
        "colab": {
          "base_uri": "https://localhost:8080/"
        },
        "id": "kEIxc2NjzSzq",
        "outputId": "f9b7a4f6-8a0f-42c7-b4d3-acee1c986544"
      },
      "source": [
        "train_loss, train_accuracy = model1.evaluate(x_train, y_train, batch_size=BATCH_SIZE)\n",
        "train_accuracy"
      ],
      "execution_count": 62,
      "outputs": [
        {
          "output_type": "stream",
          "text": [
            "60/60 [==============================] - 1s 12ms/step - loss: 0.1657 - accuracy: 0.9374\n"
          ],
          "name": "stdout"
        },
        {
          "output_type": "execute_result",
          "data": {
            "text/plain": [
              "0.9373999834060669"
            ]
          },
          "metadata": {
            "tags": []
          },
          "execution_count": 62
        }
      ]
    },
    {
      "cell_type": "code",
      "metadata": {
        "colab": {
          "base_uri": "https://localhost:8080/"
        },
        "id": "b0yP9SWj5rcn",
        "outputId": "acac4167-3293-4a57-eb0e-aa76d0b43004"
      },
      "source": [
        "test_loss, test_accuracy = model1.evaluate(x_test, y_test, batch_size=BATCH_SIZE)\n",
        "test_accuracy"
      ],
      "execution_count": 63,
      "outputs": [
        {
          "output_type": "stream",
          "text": [
            "10/10 [==============================] - 0s 12ms/step - loss: 0.2642 - accuracy: 0.9100\n"
          ],
          "name": "stdout"
        },
        {
          "output_type": "execute_result",
          "data": {
            "text/plain": [
              "0.9100000262260437"
            ]
          },
          "metadata": {
            "tags": []
          },
          "execution_count": 63
        }
      ]
    },
    {
      "cell_type": "markdown",
      "metadata": {
        "id": "3Gr_M_ux7TDs"
      },
      "source": [
        "**Compiling and Training the Model with Mean Square Error**"
      ]
    },
    {
      "cell_type": "code",
      "metadata": {
        "id": "zOJ7yg7Y56ZD"
      },
      "source": [
        "BATCH_SIZE=1000\n",
        "EPOCHS = 50\n",
        "model2.compile(loss=tf.keras.losses.mean_squared_error,\n",
        "             optimizer='adam',\n",
        "             metrics=['accuracy'])"
      ],
      "execution_count": 64,
      "outputs": []
    },
    {
      "cell_type": "code",
      "metadata": {
        "colab": {
          "base_uri": "https://localhost:8080/"
        },
        "id": "18bs1gJ06nvf",
        "outputId": "e34496d4-7971-49be-9d7f-f42cc82324b3"
      },
      "source": [
        "%time history = model2.fit(x_train, y_train, epochs=EPOCHS, batch_size=BATCH_SIZE, validation_split=0.2, verbose=1)"
      ],
      "execution_count": 65,
      "outputs": [
        {
          "output_type": "stream",
          "text": [
            "Epoch 1/50\n",
            "48/48 [==============================] - 3s 48ms/step - loss: 27.6996 - accuracy: 0.1052 - val_loss: 27.3250 - val_accuracy: 0.0959\n",
            "Epoch 2/50\n",
            "48/48 [==============================] - 2s 42ms/step - loss: 27.6813 - accuracy: 0.0955 - val_loss: 27.3250 - val_accuracy: 0.0996\n",
            "Epoch 3/50\n",
            "48/48 [==============================] - 2s 42ms/step - loss: 27.6813 - accuracy: 0.0791 - val_loss: 27.3250 - val_accuracy: 0.0993\n",
            "Epoch 4/50\n",
            "48/48 [==============================] - 2s 41ms/step - loss: 27.6813 - accuracy: 0.0765 - val_loss: 27.3250 - val_accuracy: 0.1001\n",
            "Epoch 5/50\n",
            "48/48 [==============================] - 2s 41ms/step - loss: 27.6813 - accuracy: 0.0732 - val_loss: 27.3250 - val_accuracy: 0.1002\n",
            "Epoch 6/50\n",
            "48/48 [==============================] - 2s 41ms/step - loss: 27.6813 - accuracy: 0.0733 - val_loss: 27.3250 - val_accuracy: 0.0985\n",
            "Epoch 7/50\n",
            "48/48 [==============================] - 2s 41ms/step - loss: 27.6813 - accuracy: 0.0784 - val_loss: 27.3250 - val_accuracy: 0.0983\n",
            "Epoch 8/50\n",
            "48/48 [==============================] - 2s 41ms/step - loss: 27.6813 - accuracy: 0.0765 - val_loss: 27.3250 - val_accuracy: 0.0983\n",
            "Epoch 9/50\n",
            "48/48 [==============================] - 2s 41ms/step - loss: 27.6813 - accuracy: 0.0781 - val_loss: 27.3250 - val_accuracy: 0.0983\n",
            "Epoch 10/50\n",
            "48/48 [==============================] - 2s 41ms/step - loss: 27.6813 - accuracy: 0.0814 - val_loss: 27.3250 - val_accuracy: 0.0983\n",
            "Epoch 11/50\n",
            "48/48 [==============================] - 2s 42ms/step - loss: 27.6813 - accuracy: 0.0781 - val_loss: 27.3250 - val_accuracy: 0.0983\n",
            "Epoch 12/50\n",
            "48/48 [==============================] - 2s 41ms/step - loss: 27.6813 - accuracy: 0.0803 - val_loss: 27.3250 - val_accuracy: 0.0983\n",
            "Epoch 13/50\n",
            "48/48 [==============================] - 2s 42ms/step - loss: 27.6813 - accuracy: 0.1042 - val_loss: 27.3250 - val_accuracy: 0.0957\n",
            "Epoch 14/50\n",
            "48/48 [==============================] - 2s 41ms/step - loss: 27.6813 - accuracy: 0.1307 - val_loss: 27.3250 - val_accuracy: 0.0957\n",
            "Epoch 15/50\n",
            "48/48 [==============================] - 2s 41ms/step - loss: 27.6813 - accuracy: 0.1298 - val_loss: 27.3250 - val_accuracy: 0.0957\n",
            "Epoch 16/50\n",
            "48/48 [==============================] - 2s 42ms/step - loss: 27.6813 - accuracy: 0.1285 - val_loss: 27.3250 - val_accuracy: 0.0957\n",
            "Epoch 17/50\n",
            "48/48 [==============================] - 2s 42ms/step - loss: 27.6813 - accuracy: 0.1299 - val_loss: 27.3250 - val_accuracy: 0.0957\n",
            "Epoch 18/50\n",
            "48/48 [==============================] - 2s 41ms/step - loss: 27.6813 - accuracy: 0.1281 - val_loss: 27.3250 - val_accuracy: 0.0957\n",
            "Epoch 19/50\n",
            "48/48 [==============================] - 2s 41ms/step - loss: 27.6813 - accuracy: 0.1265 - val_loss: 27.3250 - val_accuracy: 0.0957\n",
            "Epoch 20/50\n",
            "48/48 [==============================] - 2s 41ms/step - loss: 27.6813 - accuracy: 0.1262 - val_loss: 27.3250 - val_accuracy: 0.0957\n",
            "Epoch 21/50\n",
            "48/48 [==============================] - 2s 41ms/step - loss: 27.6813 - accuracy: 0.1264 - val_loss: 27.3250 - val_accuracy: 0.0957\n",
            "Epoch 22/50\n",
            "48/48 [==============================] - 2s 41ms/step - loss: 27.6813 - accuracy: 0.1260 - val_loss: 27.3250 - val_accuracy: 0.0957\n",
            "Epoch 23/50\n",
            "48/48 [==============================] - 2s 42ms/step - loss: 27.6813 - accuracy: 0.1245 - val_loss: 27.3250 - val_accuracy: 0.0957\n",
            "Epoch 24/50\n",
            "48/48 [==============================] - 2s 41ms/step - loss: 27.6813 - accuracy: 0.1234 - val_loss: 27.3250 - val_accuracy: 0.0957\n",
            "Epoch 25/50\n",
            "48/48 [==============================] - 2s 42ms/step - loss: 27.6813 - accuracy: 0.1216 - val_loss: 27.3250 - val_accuracy: 0.0957\n",
            "Epoch 26/50\n",
            "48/48 [==============================] - 2s 41ms/step - loss: 27.6813 - accuracy: 0.1237 - val_loss: 27.3250 - val_accuracy: 0.0957\n",
            "Epoch 27/50\n",
            "48/48 [==============================] - 2s 41ms/step - loss: 27.6813 - accuracy: 0.1220 - val_loss: 27.3250 - val_accuracy: 0.0957\n",
            "Epoch 28/50\n",
            "48/48 [==============================] - 2s 42ms/step - loss: 27.6813 - accuracy: 0.1221 - val_loss: 27.3250 - val_accuracy: 0.0957\n",
            "Epoch 29/50\n",
            "48/48 [==============================] - 2s 42ms/step - loss: 27.6813 - accuracy: 0.1212 - val_loss: 27.3250 - val_accuracy: 0.0957\n",
            "Epoch 30/50\n",
            "48/48 [==============================] - 2s 41ms/step - loss: 27.6813 - accuracy: 0.1186 - val_loss: 27.3250 - val_accuracy: 0.0957\n",
            "Epoch 31/50\n",
            "48/48 [==============================] - 2s 41ms/step - loss: 27.6813 - accuracy: 0.1187 - val_loss: 27.3250 - val_accuracy: 0.0957\n",
            "Epoch 32/50\n",
            "48/48 [==============================] - 2s 41ms/step - loss: 27.6813 - accuracy: 0.1189 - val_loss: 27.3250 - val_accuracy: 0.0957\n",
            "Epoch 33/50\n",
            "48/48 [==============================] - 2s 41ms/step - loss: 27.6813 - accuracy: 0.1178 - val_loss: 27.3250 - val_accuracy: 0.0957\n",
            "Epoch 34/50\n",
            "48/48 [==============================] - 2s 42ms/step - loss: 27.6813 - accuracy: 0.1179 - val_loss: 27.3250 - val_accuracy: 0.0957\n",
            "Epoch 35/50\n",
            "48/48 [==============================] - 2s 41ms/step - loss: 27.6813 - accuracy: 0.1174 - val_loss: 27.3250 - val_accuracy: 0.0957\n",
            "Epoch 36/50\n",
            "48/48 [==============================] - 2s 41ms/step - loss: 27.6813 - accuracy: 0.1161 - val_loss: 27.3250 - val_accuracy: 0.0957\n",
            "Epoch 37/50\n",
            "48/48 [==============================] - 2s 41ms/step - loss: 27.6813 - accuracy: 0.1162 - val_loss: 27.3250 - val_accuracy: 0.0957\n",
            "Epoch 38/50\n",
            "48/48 [==============================] - 2s 41ms/step - loss: 27.6813 - accuracy: 0.1166 - val_loss: 27.3250 - val_accuracy: 0.0957\n",
            "Epoch 39/50\n",
            "48/48 [==============================] - 2s 41ms/step - loss: 27.6813 - accuracy: 0.1143 - val_loss: 27.3250 - val_accuracy: 0.0957\n",
            "Epoch 40/50\n",
            "48/48 [==============================] - 2s 41ms/step - loss: 27.6813 - accuracy: 0.1140 - val_loss: 27.3250 - val_accuracy: 0.0957\n",
            "Epoch 41/50\n",
            "48/48 [==============================] - 2s 42ms/step - loss: 27.6813 - accuracy: 0.1141 - val_loss: 27.3250 - val_accuracy: 0.0957\n",
            "Epoch 42/50\n",
            "48/48 [==============================] - 2s 41ms/step - loss: 27.6813 - accuracy: 0.1147 - val_loss: 27.3250 - val_accuracy: 0.0957\n",
            "Epoch 43/50\n",
            "48/48 [==============================] - 2s 41ms/step - loss: 27.6813 - accuracy: 0.1135 - val_loss: 27.3250 - val_accuracy: 0.0957\n",
            "Epoch 44/50\n",
            "48/48 [==============================] - 2s 41ms/step - loss: 27.6813 - accuracy: 0.1131 - val_loss: 27.3250 - val_accuracy: 0.0957\n",
            "Epoch 45/50\n",
            "48/48 [==============================] - 2s 41ms/step - loss: 27.6813 - accuracy: 0.1132 - val_loss: 27.3250 - val_accuracy: 0.0957\n",
            "Epoch 46/50\n",
            "48/48 [==============================] - 2s 41ms/step - loss: 27.6813 - accuracy: 0.1125 - val_loss: 27.3250 - val_accuracy: 0.0957\n",
            "Epoch 47/50\n",
            "48/48 [==============================] - 2s 41ms/step - loss: 27.6813 - accuracy: 0.1119 - val_loss: 27.3250 - val_accuracy: 0.0957\n",
            "Epoch 48/50\n",
            "48/48 [==============================] - 2s 41ms/step - loss: 27.6813 - accuracy: 0.1115 - val_loss: 27.3250 - val_accuracy: 0.0957\n",
            "Epoch 49/50\n",
            "48/48 [==============================] - 2s 41ms/step - loss: 27.6813 - accuracy: 0.1115 - val_loss: 27.3250 - val_accuracy: 0.0957\n",
            "Epoch 50/50\n",
            "48/48 [==============================] - 2s 43ms/step - loss: 27.6813 - accuracy: 0.1114 - val_loss: 27.3250 - val_accuracy: 0.0957\n",
            "CPU times: user 1min 36s, sys: 2.55 s, total: 1min 39s\n",
            "Wall time: 1min 40s\n"
          ],
          "name": "stdout"
        }
      ]
    },
    {
      "cell_type": "code",
      "metadata": {
        "colab": {
          "base_uri": "https://localhost:8080/"
        },
        "id": "Wvc7orOJ8atp",
        "outputId": "e9b02d42-f5df-4788-e718-c2193c1d757a"
      },
      "source": [
        "train_loss, train_accuracy = model2.evaluate(x_train, y_train, batch_size=BATCH_SIZE)\n",
        "train_accuracy"
      ],
      "execution_count": 66,
      "outputs": [
        {
          "output_type": "stream",
          "text": [
            "60/60 [==============================] - 1s 11ms/step - loss: 27.6100 - accuracy: 0.1000\n"
          ],
          "name": "stdout"
        },
        {
          "output_type": "execute_result",
          "data": {
            "text/plain": [
              "0.10000000149011612"
            ]
          },
          "metadata": {
            "tags": []
          },
          "execution_count": 66
        }
      ]
    },
    {
      "cell_type": "code",
      "metadata": {
        "colab": {
          "base_uri": "https://localhost:8080/"
        },
        "id": "i_s71s1b8bku",
        "outputId": "5104ab17-d540-46ff-c9db-554657434f67"
      },
      "source": [
        "test_loss, test_accuracy = model2.evaluate(x_test, y_test, batch_size=BATCH_SIZE)\n",
        "test_accuracy"
      ],
      "execution_count": 67,
      "outputs": [
        {
          "output_type": "stream",
          "text": [
            "10/10 [==============================] - 0s 13ms/step - loss: 27.6100 - accuracy: 0.1000\n"
          ],
          "name": "stdout"
        },
        {
          "output_type": "execute_result",
          "data": {
            "text/plain": [
              "0.10000000149011612"
            ]
          },
          "metadata": {
            "tags": []
          },
          "execution_count": 67
        }
      ]
    },
    {
      "cell_type": "code",
      "metadata": {
        "id": "RdQpDLIu8evj"
      },
      "source": [
        "predictions1 = model1.predict(x_test)"
      ],
      "execution_count": 70,
      "outputs": []
    },
    {
      "cell_type": "code",
      "metadata": {
        "colab": {
          "base_uri": "https://localhost:8080/"
        },
        "id": "2wnA2EadKQuw",
        "outputId": "6ef2b2b0-d282-441a-90fa-bf7b2550e0bd"
      },
      "source": [
        "predictions1"
      ],
      "execution_count": 71,
      "outputs": [
        {
          "output_type": "execute_result",
          "data": {
            "text/plain": [
              "array([[7.56357321e-25, 2.40299943e-26, 7.09197313e-24, ...,\n",
              "        2.38157936e-05, 6.74241799e-17, 9.99976158e-01],\n",
              "       [4.61840983e-07, 1.22142612e-20, 9.99795854e-01, ...,\n",
              "        9.66274318e-31, 7.57599550e-14, 2.51308354e-30],\n",
              "       [0.00000000e+00, 1.00000000e+00, 0.00000000e+00, ...,\n",
              "        0.00000000e+00, 0.00000000e+00, 0.00000000e+00],\n",
              "       ...,\n",
              "       [9.48029503e-20, 0.00000000e+00, 4.00741108e-30, ...,\n",
              "        0.00000000e+00, 1.00000000e+00, 0.00000000e+00],\n",
              "       [2.35550410e-29, 1.00000000e+00, 1.53393435e-33, ...,\n",
              "        0.00000000e+00, 0.00000000e+00, 0.00000000e+00],\n",
              "       [4.42030839e-08, 6.36963052e-11, 4.63495997e-09, ...,\n",
              "        5.72378635e-02, 1.52920809e-04, 7.71280611e-05]], dtype=float32)"
            ]
          },
          "metadata": {
            "tags": []
          },
          "execution_count": 71
        }
      ]
    },
    {
      "cell_type": "code",
      "metadata": {
        "colab": {
          "base_uri": "https://localhost:8080/"
        },
        "id": "9w4r5oK3KzAa",
        "outputId": "32ed3c1c-8715-4051-ba40-bbc6eec8eeac"
      },
      "source": [
        "yhat_classes = model1.predict_classes(x_test, verbose=0)"
      ],
      "execution_count": 86,
      "outputs": [
        {
          "output_type": "stream",
          "text": [
            "/usr/local/lib/python3.7/dist-packages/tensorflow/python/keras/engine/sequential.py:455: UserWarning: `model.predict_classes()` is deprecated and will be removed after 2021-01-01. Please use instead:* `np.argmax(model.predict(x), axis=-1)`,   if your model does multi-class classification   (e.g. if it uses a `softmax` last-layer activation).* `(model.predict(x) > 0.5).astype(\"int32\")`,   if your model does binary classification   (e.g. if it uses a `sigmoid` last-layer activation).\n",
            "  warnings.warn('`model.predict_classes()` is deprecated and '\n"
          ],
          "name": "stderr"
        }
      ]
    },
    {
      "cell_type": "markdown",
      "metadata": {
        "id": "Umn25IpuWaBG"
      },
      "source": [
        "**Confusion Matrix for Categorical Cross Entropy**"
      ]
    },
    {
      "cell_type": "code",
      "metadata": {
        "colab": {
          "base_uri": "https://localhost:8080/"
        },
        "id": "_W4RCNIEL0E2",
        "outputId": "60843c42-904e-4d4b-f65b-c40fec154005"
      },
      "source": [
        "matrix = confusion_matrix(y_test, yhat_classes)\n",
        "print(matrix)"
      ],
      "execution_count": 89,
      "outputs": [
        {
          "output_type": "stream",
          "text": [
            "tf.Tensor(\n",
            "[[877   1  15  13   4   1  84   0   5   0]\n",
            " [  2 984   0  11   1   0   2   0   0   0]\n",
            " [ 17   0 824   7  74   0  77   0   1   0]\n",
            " [  9   6   6 925  35   0  19   0   0   0]\n",
            " [  1   1  35  26 865   0  72   0   0   0]\n",
            " [  0   0   0   0   0 972   0  23   0   5]\n",
            " [108   1  45  31  69   0 741   0   5   0]\n",
            " [  0   0   0   0   0   5   0 985   0  10]\n",
            " [  4   1   1   2   3   2   4   3 980   0]\n",
            " [  0   0   0   0   0   6   0  47   0 947]], shape=(10, 10), dtype=int32)\n"
          ],
          "name": "stdout"
        }
      ]
    },
    {
      "cell_type": "markdown",
      "metadata": {
        "id": "prPEK8f_WiQ3"
      },
      "source": [
        "**Confusion Matrix for Mean Squared Error**"
      ]
    },
    {
      "cell_type": "code",
      "metadata": {
        "colab": {
          "base_uri": "https://localhost:8080/"
        },
        "id": "Wj4oO_0rPTqz",
        "outputId": "1a1cc883-d0d9-4adc-b172-505aeb566335"
      },
      "source": [
        "yhat_classes2 = model2.predict_classes(x_test, verbose=0)"
      ],
      "execution_count": 90,
      "outputs": [
        {
          "output_type": "stream",
          "text": [
            "/usr/local/lib/python3.7/dist-packages/tensorflow/python/keras/engine/sequential.py:455: UserWarning: `model.predict_classes()` is deprecated and will be removed after 2021-01-01. Please use instead:* `np.argmax(model.predict(x), axis=-1)`,   if your model does multi-class classification   (e.g. if it uses a `softmax` last-layer activation).* `(model.predict(x) > 0.5).astype(\"int32\")`,   if your model does binary classification   (e.g. if it uses a `sigmoid` last-layer activation).\n",
            "  warnings.warn('`model.predict_classes()` is deprecated and '\n"
          ],
          "name": "stderr"
        }
      ]
    },
    {
      "cell_type": "code",
      "metadata": {
        "colab": {
          "base_uri": "https://localhost:8080/"
        },
        "id": "z69MXkDcWQiU",
        "outputId": "8cc24a02-a66a-45e3-f1a0-7235ada8c486"
      },
      "source": [
        "matrix = confusion_matrix(y_test, yhat_classes2)\n",
        "print(matrix)"
      ],
      "execution_count": 92,
      "outputs": [
        {
          "output_type": "stream",
          "text": [
            "tf.Tensor(\n",
            "[[   0    0    0    0    0    0 1000    0    0    0]\n",
            " [   0    0    0    0    0    0 1000    0    0    0]\n",
            " [   0    0    0    0    0    0 1000    0    0    0]\n",
            " [   0    0    0    0    0    0 1000    0    0    0]\n",
            " [   0    0    0    0    0    0 1000    0    0    0]\n",
            " [   0    0    0    0    0    0 1000    0    0    0]\n",
            " [   0    0    0    0    0    0 1000    0    0    0]\n",
            " [   0    0    0    0    0    0 1000    0    0    0]\n",
            " [   0    0    0    0    0    0 1000    0    0    0]\n",
            " [   0    0    0    0    0    0 1000    0    0    0]], shape=(10, 10), dtype=int32)\n"
          ],
          "name": "stdout"
        }
      ]
    },
    {
      "cell_type": "code",
      "metadata": {
        "id": "i4CoFJ_gWTLm"
      },
      "source": [
        ""
      ],
      "execution_count": null,
      "outputs": []
    }
  ]
}