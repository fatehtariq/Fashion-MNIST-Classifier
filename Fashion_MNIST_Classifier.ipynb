{
  "nbformat": 4,
  "nbformat_minor": 0,
  "metadata": {
    "colab": {
      "name": "Fashion MNIST Classifier.ipynb",
      "provenance": [],
      "collapsed_sections": [],
      "authorship_tag": "ABX9TyMalImObdXBRozbieg5TZVM",
      "include_colab_link": true
    },
    "kernelspec": {
      "name": "python3",
      "display_name": "Python 3"
    },
    "language_info": {
      "name": "python"
    },
    "accelerator": "GPU"
  },
  "cells": [
    {
      "cell_type": "markdown",
      "metadata": {
        "id": "view-in-github",
        "colab_type": "text"
      },
      "source": [
        "<a href=\"https://colab.research.google.com/github/fatehtariq/Fashion-MNIST-Classifier/blob/main/Fashion_MNIST_Classifier.ipynb\" target=\"_parent\"><img src=\"https://colab.research.google.com/assets/colab-badge.svg\" alt=\"Open In Colab\"/></a>"
      ]
    },
    {
      "cell_type": "markdown",
      "metadata": {
        "id": "cQ5MP3ABprgh"
      },
      "source": [
        "# Fashion MNIST Classifier"
      ]
    },
    {
      "cell_type": "markdown",
      "metadata": {
        "id": "Pwghwwr9p1Df"
      },
      "source": [
        "**Libraries**"
      ]
    },
    {
      "cell_type": "code",
      "metadata": {
        "id": "PlQXYrygpmqk"
      },
      "source": [
        "import tensorflow as tf\n",
        "import numpy as np\n",
        "import matplotlib.pyplot as plt\n",
        "from keras.layers.normalization import BatchNormalization\n",
        "import pandas as pd"
      ],
      "execution_count": 50,
      "outputs": []
    },
    {
      "cell_type": "markdown",
      "metadata": {
        "id": "dZll_LOjqDng"
      },
      "source": [
        "**Loading Dataset**"
      ]
    },
    {
      "cell_type": "code",
      "metadata": {
        "colab": {
          "base_uri": "https://localhost:8080/"
        },
        "id": "hNt8kq3yqHs1",
        "outputId": "3ab9fa59-7104-4a97-c440-784033b071b3"
      },
      "source": [
        "(x_train, y_train), (x_test, y_test) = tf.keras.datasets.fashion_mnist.load_data()"
      ],
      "execution_count": 2,
      "outputs": [
        {
          "output_type": "stream",
          "text": [
            "Downloading data from https://storage.googleapis.com/tensorflow/tf-keras-datasets/train-labels-idx1-ubyte.gz\n",
            "32768/29515 [=================================] - 0s 0us/step\n",
            "Downloading data from https://storage.googleapis.com/tensorflow/tf-keras-datasets/train-images-idx3-ubyte.gz\n",
            "26427392/26421880 [==============================] - 1s 0us/step\n",
            "Downloading data from https://storage.googleapis.com/tensorflow/tf-keras-datasets/t10k-labels-idx1-ubyte.gz\n",
            "8192/5148 [===============================================] - 0s 0us/step\n",
            "Downloading data from https://storage.googleapis.com/tensorflow/tf-keras-datasets/t10k-images-idx3-ubyte.gz\n",
            "4423680/4422102 [==============================] - 0s 0us/step\n"
          ],
          "name": "stdout"
        }
      ]
    },
    {
      "cell_type": "code",
      "metadata": {
        "colab": {
          "base_uri": "https://localhost:8080/"
        },
        "id": "tWsoeHwAqKr2",
        "outputId": "471e1c2d-a0f7-43f3-b23c-aad89881b58a"
      },
      "source": [
        "print(\"x_train shape (Training Images):\", x_train.shape, \"y_train shape (Training Labels):\", y_train.shape)"
      ],
      "execution_count": 3,
      "outputs": [
        {
          "output_type": "stream",
          "text": [
            "x_train shape (Training Images): (60000, 28, 28) y_train shape (Training Labels): (60000,)\n"
          ],
          "name": "stdout"
        }
      ]
    },
    {
      "cell_type": "markdown",
      "metadata": {
        "id": "azRsKmJNqqRp"
      },
      "source": [
        "**Preprocessing Data**"
      ]
    },
    {
      "cell_type": "code",
      "metadata": {
        "colab": {
          "base_uri": "https://localhost:8080/"
        },
        "id": "iDMzkrZ1qbe5",
        "outputId": "8db1f442-a6d7-4905-c601-261605d65329"
      },
      "source": [
        "W, H = 28, 28\n",
        "x_train = x_train.reshape(x_train.shape[0], W, H, 1)\n",
        "x_test = x_test.reshape(x_test.shape[0], W, H, 1)\n",
        "\n",
        "x_train.shape"
      ],
      "execution_count": 4,
      "outputs": [
        {
          "output_type": "execute_result",
          "data": {
            "text/plain": [
              "(60000, 28, 28, 1)"
            ]
          },
          "metadata": {
            "tags": []
          },
          "execution_count": 4
        }
      ]
    },
    {
      "cell_type": "markdown",
      "metadata": {
        "id": "HxPRAisjsKL3"
      },
      "source": [
        "**Model**"
      ]
    },
    {
      "cell_type": "code",
      "metadata": {
        "id": "qOc11HW7r4pw"
      },
      "source": [
        "from tensorflow.keras.layers import Dense, Conv2D, MaxPooling2D, Dropout, Flatten, Activation"
      ],
      "execution_count": 5,
      "outputs": []
    },
    {
      "cell_type": "code",
      "metadata": {
        "colab": {
          "base_uri": "https://localhost:8080/"
        },
        "id": "QLCNSq6CsOvX",
        "outputId": "12778250-0564-42be-dc36-a508f008cf86"
      },
      "source": [
        "model1 = tf.keras.Sequential()\n",
        "\n",
        "model1.add(Conv2D(filters=8, kernel_size=5, padding='same', activation='relu', input_shape=(28,28,1)))          \n",
        "model1.add(MaxPooling2D(pool_size=2))\n",
        "model1.add(Dropout(0.3))\n",
        "\n",
        "model1.add(Conv2D(filters=32, kernel_size=7, activation='relu', input_shape=(8,8,1)))              \n",
        "model1.add(MaxPooling2D(pool_size=1))\n",
        "model1.add(Dropout(0.3))\n",
        "\n",
        "model1.add(Conv2D(filters=64, kernel_size=5,activation='relu', input_shape=(4,4,1)))             \n",
        "model1.add(MaxPooling2D(pool_size=1))\n",
        "model1.add(Dropout(0.3))\n",
        "\n",
        "model1.add(Conv2D(128, (3, 3),activation='relu', input_shape=(2,2,1)))              \n",
        "model1.add(MaxPooling2D(pool_size=1))\n",
        "model1.add(Dropout(0.3))\n",
        "\n",
        "model1.add(Flatten())\n",
        "\n",
        "model1.add(Dense(512))                                      \n",
        "model1.add(Activation('relu'))\n",
        "model1.add(Dropout(0.3))\n",
        "\n",
        "model1.add(Dense(128))                                      \n",
        "model1.add(Activation('relu'))\n",
        "model1.add(Dropout(0.3))\n",
        "\n",
        "model1.add(Dense(10))                                     \n",
        "model1.add(Activation('Softmax'))\n",
        "\n",
        "model1.summary()"
      ],
      "execution_count": 39,
      "outputs": [
        {
          "output_type": "stream",
          "text": [
            "Model: \"sequential_22\"\n",
            "_________________________________________________________________\n",
            "Layer (type)                 Output Shape              Param #   \n",
            "=================================================================\n",
            "conv2d_85 (Conv2D)           (None, 28, 28, 8)         208       \n",
            "_________________________________________________________________\n",
            "max_pooling2d_82 (MaxPooling (None, 14, 14, 8)         0         \n",
            "_________________________________________________________________\n",
            "dropout_118 (Dropout)        (None, 14, 14, 8)         0         \n",
            "_________________________________________________________________\n",
            "conv2d_86 (Conv2D)           (None, 8, 8, 32)          12576     \n",
            "_________________________________________________________________\n",
            "max_pooling2d_83 (MaxPooling (None, 8, 8, 32)          0         \n",
            "_________________________________________________________________\n",
            "dropout_119 (Dropout)        (None, 8, 8, 32)          0         \n",
            "_________________________________________________________________\n",
            "conv2d_87 (Conv2D)           (None, 4, 4, 64)          51264     \n",
            "_________________________________________________________________\n",
            "max_pooling2d_84 (MaxPooling (None, 4, 4, 64)          0         \n",
            "_________________________________________________________________\n",
            "dropout_120 (Dropout)        (None, 4, 4, 64)          0         \n",
            "_________________________________________________________________\n",
            "conv2d_88 (Conv2D)           (None, 2, 2, 128)         73856     \n",
            "_________________________________________________________________\n",
            "max_pooling2d_85 (MaxPooling (None, 2, 2, 128)         0         \n",
            "_________________________________________________________________\n",
            "dropout_121 (Dropout)        (None, 2, 2, 128)         0         \n",
            "_________________________________________________________________\n",
            "flatten_18 (Flatten)         (None, 512)               0         \n",
            "_________________________________________________________________\n",
            "dense_54 (Dense)             (None, 512)               262656    \n",
            "_________________________________________________________________\n",
            "activation_54 (Activation)   (None, 512)               0         \n",
            "_________________________________________________________________\n",
            "dropout_122 (Dropout)        (None, 512)               0         \n",
            "_________________________________________________________________\n",
            "dense_55 (Dense)             (None, 128)               65664     \n",
            "_________________________________________________________________\n",
            "activation_55 (Activation)   (None, 128)               0         \n",
            "_________________________________________________________________\n",
            "dropout_123 (Dropout)        (None, 128)               0         \n",
            "_________________________________________________________________\n",
            "dense_56 (Dense)             (None, 10)                1290      \n",
            "_________________________________________________________________\n",
            "activation_56 (Activation)   (None, 10)                0         \n",
            "=================================================================\n",
            "Total params: 467,514\n",
            "Trainable params: 467,514\n",
            "Non-trainable params: 0\n",
            "_________________________________________________________________\n"
          ],
          "name": "stdout"
        }
      ]
    },
    {
      "cell_type": "markdown",
      "metadata": {
        "id": "Zw8fGAadyWC9"
      },
      "source": [
        "**Compiling and Training the Model with Categorical Cross Entropy**"
      ]
    },
    {
      "cell_type": "code",
      "metadata": {
        "id": "bDdqX3fKu0F-"
      },
      "source": [
        "BATCH_SIZE=1000\n",
        "EPOCHS = 50\n",
        "#model1.compile(loss=tf.keras.losses.mean_squared_error,\n",
        "#             optimizer='adam',\n",
        "#             metrics=['accuracy'])\n",
        "\n",
        "model1.compile(loss='sparse_categorical_crossentropy',\n",
        "             optimizer='adam',\n",
        "             metrics=['accuracy'])"
      ],
      "execution_count": 45,
      "outputs": []
    },
    {
      "cell_type": "code",
      "metadata": {
        "colab": {
          "base_uri": "https://localhost:8080/"
        },
        "id": "pQ8K-P2Fysjn",
        "outputId": "a53a0da4-1e6a-4a7f-b06c-d5eac5a64843"
      },
      "source": [
        "%time history = model1.fit(x_train, y_train, epochs=EPOCHS, batch_size=BATCH_SIZE, validation_split=0.2, verbose=1)"
      ],
      "execution_count": 46,
      "outputs": [
        {
          "output_type": "stream",
          "text": [
            "Epoch 1/50\n",
            "48/48 [==============================] - 3s 48ms/step - loss: 1.7980 - accuracy: 0.3248 - val_loss: 1.0882 - val_accuracy: 0.6693\n",
            "Epoch 2/50\n",
            "48/48 [==============================] - 2s 41ms/step - loss: 0.8251 - accuracy: 0.6926 - val_loss: 0.5688 - val_accuracy: 0.7850\n",
            "Epoch 3/50\n",
            "48/48 [==============================] - 2s 41ms/step - loss: 0.6152 - accuracy: 0.7678 - val_loss: 0.4875 - val_accuracy: 0.8161\n",
            "Epoch 4/50\n",
            "48/48 [==============================] - 2s 41ms/step - loss: 0.5406 - accuracy: 0.7997 - val_loss: 0.4349 - val_accuracy: 0.8388\n",
            "Epoch 5/50\n",
            "48/48 [==============================] - 2s 42ms/step - loss: 0.4943 - accuracy: 0.8195 - val_loss: 0.3941 - val_accuracy: 0.8520\n",
            "Epoch 6/50\n",
            "48/48 [==============================] - 2s 41ms/step - loss: 0.4567 - accuracy: 0.8352 - val_loss: 0.3645 - val_accuracy: 0.8660\n",
            "Epoch 7/50\n",
            "48/48 [==============================] - 2s 42ms/step - loss: 0.4306 - accuracy: 0.8451 - val_loss: 0.3453 - val_accuracy: 0.8735\n",
            "Epoch 8/50\n",
            "48/48 [==============================] - 2s 42ms/step - loss: 0.4131 - accuracy: 0.8501 - val_loss: 0.3404 - val_accuracy: 0.8772\n",
            "Epoch 9/50\n",
            "48/48 [==============================] - 2s 42ms/step - loss: 0.4019 - accuracy: 0.8534 - val_loss: 0.3298 - val_accuracy: 0.8808\n",
            "Epoch 10/50\n",
            "48/48 [==============================] - 2s 41ms/step - loss: 0.3890 - accuracy: 0.8586 - val_loss: 0.3153 - val_accuracy: 0.8818\n",
            "Epoch 11/50\n",
            "48/48 [==============================] - 2s 42ms/step - loss: 0.3761 - accuracy: 0.8630 - val_loss: 0.3096 - val_accuracy: 0.8853\n",
            "Epoch 12/50\n",
            "48/48 [==============================] - 2s 42ms/step - loss: 0.3693 - accuracy: 0.8652 - val_loss: 0.3140 - val_accuracy: 0.8869\n",
            "Epoch 13/50\n",
            "48/48 [==============================] - 2s 42ms/step - loss: 0.3584 - accuracy: 0.8704 - val_loss: 0.3021 - val_accuracy: 0.8858\n",
            "Epoch 14/50\n",
            "48/48 [==============================] - 2s 43ms/step - loss: 0.3536 - accuracy: 0.8720 - val_loss: 0.2922 - val_accuracy: 0.8922\n",
            "Epoch 15/50\n",
            "48/48 [==============================] - 2s 41ms/step - loss: 0.3477 - accuracy: 0.8734 - val_loss: 0.2963 - val_accuracy: 0.8912\n",
            "Epoch 16/50\n",
            "48/48 [==============================] - 2s 41ms/step - loss: 0.3402 - accuracy: 0.8758 - val_loss: 0.2950 - val_accuracy: 0.8912\n",
            "Epoch 17/50\n",
            "48/48 [==============================] - 2s 41ms/step - loss: 0.3348 - accuracy: 0.8779 - val_loss: 0.2847 - val_accuracy: 0.8938\n",
            "Epoch 18/50\n",
            "48/48 [==============================] - 2s 42ms/step - loss: 0.3310 - accuracy: 0.8787 - val_loss: 0.2930 - val_accuracy: 0.8923\n",
            "Epoch 19/50\n",
            "48/48 [==============================] - 2s 41ms/step - loss: 0.3254 - accuracy: 0.8806 - val_loss: 0.2817 - val_accuracy: 0.8968\n",
            "Epoch 20/50\n",
            "48/48 [==============================] - 2s 41ms/step - loss: 0.3249 - accuracy: 0.8810 - val_loss: 0.2787 - val_accuracy: 0.8961\n",
            "Epoch 21/50\n",
            "48/48 [==============================] - 2s 42ms/step - loss: 0.3151 - accuracy: 0.8842 - val_loss: 0.2763 - val_accuracy: 0.8989\n",
            "Epoch 22/50\n",
            "48/48 [==============================] - 2s 42ms/step - loss: 0.3134 - accuracy: 0.8852 - val_loss: 0.2710 - val_accuracy: 0.8977\n",
            "Epoch 23/50\n",
            "48/48 [==============================] - 2s 41ms/step - loss: 0.3113 - accuracy: 0.8860 - val_loss: 0.2724 - val_accuracy: 0.8983\n",
            "Epoch 24/50\n",
            "48/48 [==============================] - 2s 41ms/step - loss: 0.3084 - accuracy: 0.8891 - val_loss: 0.2709 - val_accuracy: 0.8995\n",
            "Epoch 25/50\n",
            "48/48 [==============================] - 2s 41ms/step - loss: 0.3019 - accuracy: 0.8894 - val_loss: 0.2670 - val_accuracy: 0.9010\n",
            "Epoch 26/50\n",
            "48/48 [==============================] - 2s 42ms/step - loss: 0.3022 - accuracy: 0.8886 - val_loss: 0.2671 - val_accuracy: 0.9021\n",
            "Epoch 27/50\n",
            "48/48 [==============================] - 2s 41ms/step - loss: 0.2972 - accuracy: 0.8903 - val_loss: 0.2681 - val_accuracy: 0.8997\n",
            "Epoch 28/50\n",
            "48/48 [==============================] - 2s 41ms/step - loss: 0.2954 - accuracy: 0.8904 - val_loss: 0.2653 - val_accuracy: 0.9011\n",
            "Epoch 29/50\n",
            "48/48 [==============================] - 2s 41ms/step - loss: 0.2943 - accuracy: 0.8934 - val_loss: 0.2602 - val_accuracy: 0.9043\n",
            "Epoch 30/50\n",
            "48/48 [==============================] - 2s 42ms/step - loss: 0.2934 - accuracy: 0.8910 - val_loss: 0.2665 - val_accuracy: 0.9022\n",
            "Epoch 31/50\n",
            "48/48 [==============================] - 2s 41ms/step - loss: 0.2909 - accuracy: 0.8929 - val_loss: 0.2611 - val_accuracy: 0.9050\n",
            "Epoch 32/50\n",
            "48/48 [==============================] - 2s 41ms/step - loss: 0.2902 - accuracy: 0.8929 - val_loss: 0.2570 - val_accuracy: 0.9048\n",
            "Epoch 33/50\n",
            "48/48 [==============================] - 2s 42ms/step - loss: 0.2871 - accuracy: 0.8930 - val_loss: 0.2601 - val_accuracy: 0.9066\n",
            "Epoch 34/50\n",
            "48/48 [==============================] - 2s 41ms/step - loss: 0.2803 - accuracy: 0.8951 - val_loss: 0.2580 - val_accuracy: 0.9039\n",
            "Epoch 35/50\n",
            "48/48 [==============================] - 2s 42ms/step - loss: 0.2854 - accuracy: 0.8923 - val_loss: 0.2655 - val_accuracy: 0.9048\n",
            "Epoch 36/50\n",
            "48/48 [==============================] - 2s 41ms/step - loss: 0.2843 - accuracy: 0.8929 - val_loss: 0.2615 - val_accuracy: 0.9044\n",
            "Epoch 37/50\n",
            "48/48 [==============================] - 2s 42ms/step - loss: 0.2790 - accuracy: 0.8969 - val_loss: 0.2612 - val_accuracy: 0.9054\n",
            "Epoch 38/50\n",
            "48/48 [==============================] - 2s 42ms/step - loss: 0.2766 - accuracy: 0.8962 - val_loss: 0.2584 - val_accuracy: 0.9052\n",
            "Epoch 39/50\n",
            "48/48 [==============================] - 2s 42ms/step - loss: 0.2753 - accuracy: 0.8980 - val_loss: 0.2623 - val_accuracy: 0.9038\n",
            "Epoch 40/50\n",
            "48/48 [==============================] - 2s 43ms/step - loss: 0.2797 - accuracy: 0.8959 - val_loss: 0.2566 - val_accuracy: 0.9038\n",
            "Epoch 41/50\n",
            "48/48 [==============================] - 2s 42ms/step - loss: 0.2702 - accuracy: 0.8970 - val_loss: 0.2553 - val_accuracy: 0.9053\n",
            "Epoch 42/50\n",
            "48/48 [==============================] - 2s 42ms/step - loss: 0.2703 - accuracy: 0.8971 - val_loss: 0.2514 - val_accuracy: 0.9053\n",
            "Epoch 43/50\n",
            "48/48 [==============================] - 2s 41ms/step - loss: 0.2696 - accuracy: 0.8976 - val_loss: 0.2572 - val_accuracy: 0.9042\n",
            "Epoch 44/50\n",
            "48/48 [==============================] - 2s 42ms/step - loss: 0.2708 - accuracy: 0.8990 - val_loss: 0.2471 - val_accuracy: 0.9087\n",
            "Epoch 45/50\n",
            "48/48 [==============================] - 2s 42ms/step - loss: 0.2657 - accuracy: 0.9013 - val_loss: 0.2524 - val_accuracy: 0.9068\n",
            "Epoch 46/50\n",
            "48/48 [==============================] - 2s 42ms/step - loss: 0.2682 - accuracy: 0.9010 - val_loss: 0.2511 - val_accuracy: 0.9082\n",
            "Epoch 47/50\n",
            "48/48 [==============================] - 2s 42ms/step - loss: 0.2679 - accuracy: 0.9004 - val_loss: 0.2501 - val_accuracy: 0.9101\n",
            "Epoch 48/50\n",
            "48/48 [==============================] - 2s 42ms/step - loss: 0.2627 - accuracy: 0.9013 - val_loss: 0.2443 - val_accuracy: 0.9114\n",
            "Epoch 49/50\n",
            "48/48 [==============================] - 2s 42ms/step - loss: 0.2630 - accuracy: 0.9018 - val_loss: 0.2475 - val_accuracy: 0.9091\n",
            "Epoch 50/50\n",
            "48/48 [==============================] - 2s 42ms/step - loss: 0.2615 - accuracy: 0.9010 - val_loss: 0.2556 - val_accuracy: 0.9076\n",
            "CPU times: user 1min 37s, sys: 2.62 s, total: 1min 39s\n",
            "Wall time: 2min 22s\n"
          ],
          "name": "stdout"
        }
      ]
    },
    {
      "cell_type": "code",
      "metadata": {
        "colab": {
          "base_uri": "https://localhost:8080/"
        },
        "id": "kEIxc2NjzSzq",
        "outputId": "04d3fd9c-2584-48ce-9095-ed28e118bdd3"
      },
      "source": [
        "train_loss, train_accuracy = model1.evaluate(x_train, y_train, batch_size=BATCH_SIZE)\n",
        "train_accuracy"
      ],
      "execution_count": 47,
      "outputs": [
        {
          "output_type": "stream",
          "text": [
            "60/60 [==============================] - 1s 12ms/step - loss: 0.1930 - accuracy: 0.9269\n"
          ],
          "name": "stdout"
        },
        {
          "output_type": "execute_result",
          "data": {
            "text/plain": [
              "0.9268666505813599"
            ]
          },
          "metadata": {
            "tags": []
          },
          "execution_count": 47
        }
      ]
    },
    {
      "cell_type": "code",
      "metadata": {
        "colab": {
          "base_uri": "https://localhost:8080/"
        },
        "id": "b0yP9SWj5rcn",
        "outputId": "9dea4969-e9ef-44fa-b156-7a1539e46065"
      },
      "source": [
        "test_loss, test_accuracy = model1.evaluate(x_test, y_test, batch_size=BATCH_SIZE)\n",
        "test_accuracy"
      ],
      "execution_count": 49,
      "outputs": [
        {
          "output_type": "stream",
          "text": [
            "10/10 [==============================] - 0s 13ms/step - loss: 0.2745 - accuracy: 0.9022\n"
          ],
          "name": "stdout"
        },
        {
          "output_type": "execute_result",
          "data": {
            "text/plain": [
              "0.9021999835968018"
            ]
          },
          "metadata": {
            "tags": []
          },
          "execution_count": 49
        }
      ]
    },
    {
      "cell_type": "markdown",
      "metadata": {
        "id": "3Gr_M_ux7TDs"
      },
      "source": [
        "**Compiling and Training the Model with Mean Square Error**"
      ]
    },
    {
      "cell_type": "code",
      "metadata": {
        "id": "zOJ7yg7Y56ZD"
      },
      "source": [
        "BATCH_SIZE=1000\n",
        "EPOCHS = 50\n",
        "model1.compile(loss=tf.keras.losses.mean_squared_error,\n",
        "             optimizer='adam',\n",
        "             metrics=['accuracy'])"
      ],
      "execution_count": 55,
      "outputs": []
    },
    {
      "cell_type": "code",
      "metadata": {
        "colab": {
          "base_uri": "https://localhost:8080/"
        },
        "id": "18bs1gJ06nvf",
        "outputId": "d12a0ad7-788d-4fb9-f587-cd6c57b7bb81"
      },
      "source": [
        "%time history = model1.fit(x_train, y_train, epochs=EPOCHS, batch_size=BATCH_SIZE, validation_split=0.2, verbose=1)"
      ],
      "execution_count": 56,
      "outputs": [
        {
          "output_type": "stream",
          "text": [
            "Epoch 1/50\n",
            "48/48 [==============================] - 3s 47ms/step - loss: 27.6892 - accuracy: 0.2081 - val_loss: 27.3250 - val_accuracy: 0.1003\n",
            "Epoch 2/50\n",
            "48/48 [==============================] - 2s 42ms/step - loss: 27.6813 - accuracy: 0.1000 - val_loss: 27.3250 - val_accuracy: 0.1003\n",
            "Epoch 3/50\n",
            "48/48 [==============================] - 2s 42ms/step - loss: 27.6813 - accuracy: 0.0996 - val_loss: 27.3250 - val_accuracy: 0.0957\n",
            "Epoch 4/50\n",
            "48/48 [==============================] - 2s 41ms/step - loss: 27.6813 - accuracy: 0.1010 - val_loss: 27.3250 - val_accuracy: 0.0957\n",
            "Epoch 5/50\n",
            "48/48 [==============================] - 2s 42ms/step - loss: 27.6813 - accuracy: 0.1010 - val_loss: 27.3250 - val_accuracy: 0.0957\n",
            "Epoch 6/50\n",
            "48/48 [==============================] - 2s 41ms/step - loss: 27.6813 - accuracy: 0.1008 - val_loss: 27.3250 - val_accuracy: 0.0957\n",
            "Epoch 7/50\n",
            "48/48 [==============================] - 2s 42ms/step - loss: 27.6813 - accuracy: 0.1008 - val_loss: 27.3250 - val_accuracy: 0.0957\n",
            "Epoch 8/50\n",
            "48/48 [==============================] - 2s 42ms/step - loss: 27.6813 - accuracy: 0.1008 - val_loss: 27.3250 - val_accuracy: 0.0957\n",
            "Epoch 9/50\n",
            "48/48 [==============================] - 2s 42ms/step - loss: 27.6813 - accuracy: 0.1010 - val_loss: 27.3250 - val_accuracy: 0.0957\n",
            "Epoch 10/50\n",
            "48/48 [==============================] - 2s 41ms/step - loss: 27.6813 - accuracy: 0.1010 - val_loss: 27.3250 - val_accuracy: 0.0957\n",
            "Epoch 11/50\n",
            "48/48 [==============================] - 2s 41ms/step - loss: 27.6813 - accuracy: 0.1011 - val_loss: 27.3250 - val_accuracy: 0.0958\n",
            "Epoch 12/50\n",
            "48/48 [==============================] - 2s 41ms/step - loss: 27.6813 - accuracy: 0.1011 - val_loss: 27.3250 - val_accuracy: 0.0958\n",
            "Epoch 13/50\n",
            "48/48 [==============================] - 2s 41ms/step - loss: 27.6813 - accuracy: 0.1010 - val_loss: 27.3250 - val_accuracy: 0.0958\n",
            "Epoch 14/50\n",
            "48/48 [==============================] - 2s 42ms/step - loss: 27.6813 - accuracy: 0.1010 - val_loss: 27.3250 - val_accuracy: 0.0958\n",
            "Epoch 15/50\n",
            "48/48 [==============================] - 2s 42ms/step - loss: 27.6813 - accuracy: 0.1008 - val_loss: 27.3250 - val_accuracy: 0.0958\n",
            "Epoch 16/50\n",
            "48/48 [==============================] - 2s 41ms/step - loss: 27.6813 - accuracy: 0.1009 - val_loss: 27.3250 - val_accuracy: 0.0958\n",
            "Epoch 17/50\n",
            "48/48 [==============================] - 2s 41ms/step - loss: 27.6813 - accuracy: 0.1003 - val_loss: 27.3250 - val_accuracy: 0.1004\n",
            "Epoch 18/50\n",
            "48/48 [==============================] - 2s 42ms/step - loss: 27.6813 - accuracy: 0.1011 - val_loss: 27.3250 - val_accuracy: 0.1006\n",
            "Epoch 19/50\n",
            "48/48 [==============================] - 2s 41ms/step - loss: 27.6813 - accuracy: 0.0999 - val_loss: 27.3250 - val_accuracy: 0.1030\n",
            "Epoch 20/50\n",
            "48/48 [==============================] - 2s 42ms/step - loss: 27.6813 - accuracy: 0.0985 - val_loss: 27.3250 - val_accuracy: 0.0984\n",
            "Epoch 21/50\n",
            "48/48 [==============================] - 2s 42ms/step - loss: 27.6813 - accuracy: 0.0996 - val_loss: 27.3250 - val_accuracy: 0.1030\n",
            "Epoch 22/50\n",
            "48/48 [==============================] - 2s 41ms/step - loss: 27.6813 - accuracy: 0.1005 - val_loss: 27.3250 - val_accuracy: 0.1006\n",
            "Epoch 23/50\n",
            "48/48 [==============================] - 2s 42ms/step - loss: 27.6813 - accuracy: 0.1019 - val_loss: 27.3250 - val_accuracy: 0.0984\n",
            "Epoch 24/50\n",
            "48/48 [==============================] - 2s 41ms/step - loss: 27.6813 - accuracy: 0.0999 - val_loss: 27.3250 - val_accuracy: 0.1030\n",
            "Epoch 25/50\n",
            "48/48 [==============================] - 2s 41ms/step - loss: 27.6813 - accuracy: 0.0991 - val_loss: 27.3250 - val_accuracy: 0.1006\n",
            "Epoch 26/50\n",
            "48/48 [==============================] - 2s 42ms/step - loss: 27.6813 - accuracy: 0.1003 - val_loss: 27.3250 - val_accuracy: 0.1030\n",
            "Epoch 27/50\n",
            "48/48 [==============================] - 2s 42ms/step - loss: 27.6813 - accuracy: 0.1009 - val_loss: 27.3250 - val_accuracy: 0.1013\n",
            "Epoch 28/50\n",
            "48/48 [==============================] - 2s 41ms/step - loss: 27.6813 - accuracy: 0.0995 - val_loss: 27.3250 - val_accuracy: 0.0984\n",
            "Epoch 29/50\n",
            "48/48 [==============================] - 2s 41ms/step - loss: 27.6813 - accuracy: 0.0992 - val_loss: 27.3250 - val_accuracy: 0.1028\n",
            "Epoch 30/50\n",
            "48/48 [==============================] - 2s 42ms/step - loss: 27.6813 - accuracy: 0.0993 - val_loss: 27.3250 - val_accuracy: 0.1006\n",
            "Epoch 31/50\n",
            "48/48 [==============================] - 2s 42ms/step - loss: 27.6813 - accuracy: 0.0999 - val_loss: 27.3250 - val_accuracy: 0.1006\n",
            "Epoch 32/50\n",
            "48/48 [==============================] - 2s 41ms/step - loss: 27.6813 - accuracy: 0.0998 - val_loss: 27.3250 - val_accuracy: 0.1030\n",
            "Epoch 33/50\n",
            "48/48 [==============================] - 2s 41ms/step - loss: 27.6813 - accuracy: 0.0977 - val_loss: 27.3250 - val_accuracy: 0.1030\n",
            "Epoch 34/50\n",
            "48/48 [==============================] - 2s 41ms/step - loss: 27.6813 - accuracy: 0.1019 - val_loss: 27.3250 - val_accuracy: 0.1006\n",
            "Epoch 35/50\n",
            "48/48 [==============================] - 2s 42ms/step - loss: 27.6813 - accuracy: 0.1008 - val_loss: 27.3250 - val_accuracy: 0.1004\n",
            "Epoch 36/50\n",
            "48/48 [==============================] - 2s 41ms/step - loss: 27.6813 - accuracy: 0.0998 - val_loss: 27.3250 - val_accuracy: 0.0984\n",
            "Epoch 37/50\n",
            "48/48 [==============================] - 2s 41ms/step - loss: 27.6813 - accuracy: 0.1001 - val_loss: 27.3250 - val_accuracy: 0.1006\n",
            "Epoch 38/50\n",
            "48/48 [==============================] - 2s 43ms/step - loss: 27.6813 - accuracy: 0.0988 - val_loss: 27.3250 - val_accuracy: 0.0984\n",
            "Epoch 39/50\n",
            "48/48 [==============================] - 2s 43ms/step - loss: 27.6813 - accuracy: 0.1021 - val_loss: 27.3250 - val_accuracy: 0.1006\n",
            "Epoch 40/50\n",
            "48/48 [==============================] - 2s 42ms/step - loss: 27.6813 - accuracy: 0.0995 - val_loss: 27.3250 - val_accuracy: 0.1004\n",
            "Epoch 41/50\n",
            "48/48 [==============================] - 2s 41ms/step - loss: 27.6813 - accuracy: 0.0985 - val_loss: 27.3250 - val_accuracy: 0.1013\n",
            "Epoch 42/50\n",
            "48/48 [==============================] - 2s 42ms/step - loss: 27.6813 - accuracy: 0.1014 - val_loss: 27.3250 - val_accuracy: 0.1006\n",
            "Epoch 43/50\n",
            "48/48 [==============================] - 2s 42ms/step - loss: 27.6813 - accuracy: 0.1007 - val_loss: 27.3250 - val_accuracy: 0.1004\n",
            "Epoch 44/50\n",
            "48/48 [==============================] - 2s 42ms/step - loss: 27.6813 - accuracy: 0.0999 - val_loss: 27.3250 - val_accuracy: 0.0984\n",
            "Epoch 45/50\n",
            "48/48 [==============================] - 2s 41ms/step - loss: 27.6813 - accuracy: 0.1014 - val_loss: 27.3250 - val_accuracy: 0.0984\n",
            "Epoch 46/50\n",
            "48/48 [==============================] - 2s 41ms/step - loss: 27.6813 - accuracy: 0.1015 - val_loss: 27.3250 - val_accuracy: 0.0996\n",
            "Epoch 47/50\n",
            "48/48 [==============================] - 2s 41ms/step - loss: 27.6812 - accuracy: 0.0999 - val_loss: 27.3250 - val_accuracy: 0.0984\n",
            "Epoch 48/50\n",
            "48/48 [==============================] - 2s 41ms/step - loss: 27.6813 - accuracy: 0.0997 - val_loss: 27.3250 - val_accuracy: 0.1013\n",
            "Epoch 49/50\n",
            "48/48 [==============================] - 2s 41ms/step - loss: 27.6813 - accuracy: 0.0995 - val_loss: 27.3250 - val_accuracy: 0.0983\n",
            "Epoch 50/50\n",
            "48/48 [==============================] - 2s 41ms/step - loss: 27.6813 - accuracy: 0.1007 - val_loss: 27.3250 - val_accuracy: 0.1003\n",
            "CPU times: user 1min 35s, sys: 2.76 s, total: 1min 38s\n",
            "Wall time: 2min 22s\n"
          ],
          "name": "stdout"
        }
      ]
    },
    {
      "cell_type": "code",
      "metadata": {
        "colab": {
          "base_uri": "https://localhost:8080/"
        },
        "id": "Wvc7orOJ8atp",
        "outputId": "2a45a136-22bb-444f-9331-99c233d005b5"
      },
      "source": [
        "train_loss, train_accuracy = model1.evaluate(x_train, y_train, batch_size=BATCH_SIZE)\n",
        "train_accuracy"
      ],
      "execution_count": 57,
      "outputs": [
        {
          "output_type": "stream",
          "text": [
            "60/60 [==============================] - 1s 11ms/step - loss: 27.6100 - accuracy: 0.1000\n"
          ],
          "name": "stdout"
        },
        {
          "output_type": "execute_result",
          "data": {
            "text/plain": [
              "0.10000000149011612"
            ]
          },
          "metadata": {
            "tags": []
          },
          "execution_count": 57
        }
      ]
    },
    {
      "cell_type": "code",
      "metadata": {
        "colab": {
          "base_uri": "https://localhost:8080/"
        },
        "id": "i_s71s1b8bku",
        "outputId": "d0d0b7e2-9999-421a-f67f-9b66567c026a"
      },
      "source": [
        "test_loss, test_accuracy = model1.evaluate(x_test, y_test, batch_size=BATCH_SIZE)\n",
        "test_accuracy"
      ],
      "execution_count": 58,
      "outputs": [
        {
          "output_type": "stream",
          "text": [
            "10/10 [==============================] - 0s 13ms/step - loss: 27.6100 - accuracy: 0.1000\n"
          ],
          "name": "stdout"
        },
        {
          "output_type": "execute_result",
          "data": {
            "text/plain": [
              "0.10000000149011612"
            ]
          },
          "metadata": {
            "tags": []
          },
          "execution_count": 58
        }
      ]
    },
    {
      "cell_type": "code",
      "metadata": {
        "id": "RdQpDLIu8evj"
      },
      "source": [
        ""
      ],
      "execution_count": null,
      "outputs": []
    }
  ]
}